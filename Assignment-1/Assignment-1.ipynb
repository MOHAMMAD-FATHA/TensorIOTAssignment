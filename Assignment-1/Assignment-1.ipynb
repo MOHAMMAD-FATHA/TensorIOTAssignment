{
 "cells": [
  {
   "cell_type": "code",
   "execution_count": 1,
   "metadata": {},
   "outputs": [
    {
     "name": "stderr",
     "output_type": "stream",
     "text": [
      "22/05/10 06:00:35 WARN Utils: Your hostname, MohammadFatha resolves to a loopback address: 127.0.1.1; using 192.168.1.10 instead (on interface wlp1s0)\n",
      "22/05/10 06:00:35 WARN Utils: Set SPARK_LOCAL_IP if you need to bind to another address\n",
      "Using Spark's default log4j profile: org/apache/spark/log4j-defaults.properties\n",
      "Setting default log level to \"WARN\".\n",
      "To adjust logging level use sc.setLogLevel(newLevel). For SparkR, use setLogLevel(newLevel).\n",
      "22/05/10 06:00:37 WARN NativeCodeLoader: Unable to load native-hadoop library for your platform... using builtin-java classes where applicable\n"
     ]
    }
   ],
   "source": [
    "from pyspark.sql import SparkSession\n",
    "\n",
    "spark = SparkSession.builder\\\n",
    "    .master(\"local[*]\")\\\n",
    "    .appName(\"Assignmet\")\\\n",
    "    .getOrCreate()"
   ]
  },
  {
   "cell_type": "code",
   "execution_count": 2,
   "metadata": {},
   "outputs": [
    {
     "name": "stderr",
     "output_type": "stream",
     "text": [
      "                                                                                \r"
     ]
    },
    {
     "name": "stdout",
     "output_type": "stream",
     "text": [
      "+----------+--------+-------+--------------------+-----------+--------------+--------------------+--------------------+--------------+\n",
      "|      asin| helpful|overall|          reviewText| reviewTime|    reviewerID|        reviewerName|             summary|unixReviewTime|\n",
      "+----------+--------+-------+--------------------+-----------+--------------+--------------------+--------------------+--------------+\n",
      "|0528881469|  [0, 0]|    5.0|We got this GPS f...| 06 2, 2013| AO94DHGC771SJ|             amazdnu|     Gotta have GPS!|    1370131200|\n",
      "|0528881469|[12, 15]|    1.0|I'm a professiona...|11 25, 2010| AMO214LNFCEI4|     Amazon Customer|   Very Disappointed|    1290643200|\n",
      "|0528881469|[43, 45]|    3.0|Well, what can I ...| 09 9, 2010|A3N7T0DY83Y4IG|       C. A. Freeman|      1st impression|    1283990400|\n",
      "|0528881469| [9, 10]|    2.0|Not going to writ...|11 24, 2010|A1H8PY3QHMQQA0|Dave M. Shaw \"mac...|Great grafics, PO...|    1290556800|\n",
      "|0528881469|  [0, 0]|    1.0|I've had mine for...|09 29, 2011|A24EV6RXELQZ63|         Wayne Smith|Major issues, onl...|    1317254400|\n",
      "|0594451647|  [3, 3]|    5.0|I am using this w...| 01 3, 2014|A2JXAZZI9PHK9Z|Billy G. Noland \"...|HDMI Nook adapter...|    1388707200|\n",
      "|0594451647|  [0, 0]|    2.0|The cable is very...|04 27, 2014|A2P5U7BDKKT7FW|           Christian|Cheap proprietary...|    1398556800|\n",
      "|0594451647|  [0, 0]|    5.0|This adaptor is r...| 05 4, 2014| AAZ084UMH8VZ2|D. L. Brown \"A Kn...|A Perfdect Nook H...|    1399161600|\n",
      "|0594451647|  [0, 0]|    4.0|This adapter easi...|07 11, 2014| AEZ3CR6BKIROJ|        Mark Dietter|A nice easy to us...|    1405036800|\n",
      "|0594451647|  [3, 3]|    5.0|This product real...|01 20, 2014|A3BY5KCNQZXV5U|             Matenai|This works great ...|    1390176000|\n",
      "+----------+--------+-------+--------------------+-----------+--------------+--------------------+--------------------+--------------+\n",
      "only showing top 10 rows\n",
      "\n"
     ]
    }
   ],
   "source": [
    "review_df = spark.read.json('reviews_Electronics_5.json')\n",
    "review_df.show(10)"
   ]
  },
  {
   "cell_type": "code",
   "execution_count": 12,
   "metadata": {},
   "outputs": [],
   "source": [
    "from pyspark.sql.functions import *\n",
    "from datetime import datetime\n",
    "from pyspark.sql.types import *"
   ]
  },
  {
   "cell_type": "code",
   "execution_count": 13,
   "metadata": {},
   "outputs": [
    {
     "name": "stdout",
     "output_type": "stream",
     "text": [
      "+----------+--------+-------+--------------------+-----------+--------------+--------------------+--------------------+--------------+-------------+\n",
      "|      asin| helpful|overall|          reviewText| reviewTime|    reviewerID|        reviewerName|             summary|unixReviewTime|NewreviewTime|\n",
      "+----------+--------+-------+--------------------+-----------+--------------+--------------------+--------------------+--------------+-------------+\n",
      "|0528881469|  [0, 0]|    5.0|We got this GPS f...| 06 2, 2013| AO94DHGC771SJ|             amazdnu|     Gotta have GPS!|    1370131200|   06-02-2013|\n",
      "|0528881469|[12, 15]|    1.0|I'm a professiona...|11 25, 2010| AMO214LNFCEI4|     Amazon Customer|   Very Disappointed|    1290643200|   11-25-2010|\n",
      "|0528881469|[43, 45]|    3.0|Well, what can I ...| 09 9, 2010|A3N7T0DY83Y4IG|       C. A. Freeman|      1st impression|    1283990400|   09-09-2010|\n",
      "|0528881469| [9, 10]|    2.0|Not going to writ...|11 24, 2010|A1H8PY3QHMQQA0|Dave M. Shaw \"mac...|Great grafics, PO...|    1290556800|   11-24-2010|\n",
      "|0528881469|  [0, 0]|    1.0|I've had mine for...|09 29, 2011|A24EV6RXELQZ63|         Wayne Smith|Major issues, onl...|    1317254400|   09-29-2011|\n",
      "+----------+--------+-------+--------------------+-----------+--------------+--------------------+--------------------+--------------+-------------+\n",
      "only showing top 5 rows\n",
      "\n"
     ]
    }
   ],
   "source": [
    "func =  udf (lambda x: datetime.strptime(x, '%m %d, %Y'), DateType())\n",
    "\n",
    "review_df = review_df.withColumn('new_col', date_format(func(col('reviewTime')), 'MM-dd-yyy'))\n",
    "review_df = review_df.withColumnRenamed('new_col', 'NewreviewTime')\n",
    "review_df.show(5)"
   ]
  },
  {
   "cell_type": "code",
   "execution_count": 3,
   "metadata": {},
   "outputs": [
    {
     "name": "stdout",
     "output_type": "stream",
     "text": [
      "+--------------+---------+-------+----------+\n",
      "|      reviewID|  lowrate|overall|  highrate|\n",
      "+--------------+---------+-------+----------+\n",
      "| AKM1MP6P0OYPR|132793040|    5.0|1365811200|\n",
      "|A2CX7LUOHB2NDG|321732944|    5.0|1341100800|\n",
      "|A2NWSAGRHCP8N5|439886341|    1.0|1367193600|\n",
      "|A2WNBOD3WNDNKT|439886341|    3.0|1374451200|\n",
      "|A1GI0U4ZRJA8WN|439886341|    1.0|1334707200|\n",
      "|A1QGNMC6O1VW39|511189877|    5.0|1397433600|\n",
      "|A3J3BRHTDRFJ2G|511189877|    2.0|1397433600|\n",
      "|A2TY0BTJOTENPG|511189877|    5.0|1395878400|\n",
      "|A34ATBPOK6HCHY|511189877|    5.0|1395532800|\n",
      "| A89DO69P0XZ27|511189877|    5.0|1395446400|\n",
      "+--------------+---------+-------+----------+\n",
      "only showing top 10 rows\n",
      "\n"
     ]
    }
   ],
   "source": [
    "\n",
    "schema = StructType([\\\n",
    "    StructField(\"reviewID\", StringType(), True),\\\n",
    "    StructField(\"lowrate\", IntegerType(), True),\\\n",
    "    StructField(\"overall\", FloatType(), True),\\\n",
    "    StructField('highrate',IntegerType(), True)])\n",
    "# schema = ['','','','highrate']\n",
    "rating_df = spark.read.format('csv').schema(schema).load('ratings_Electronics.csv')\n",
    "rating_df.show(10)"
   ]
  },
  {
   "cell_type": "code",
   "execution_count": 14,
   "metadata": {},
   "outputs": [
    {
     "name": "stderr",
     "output_type": "stream",
     "text": [
      "[Stage 20:>                                                         (0 + 1) / 1]\r"
     ]
    },
    {
     "name": "stdout",
     "output_type": "stream",
     "text": [
      "+--------------------+-------+----------+-------------+\n",
      "|          reviewText|lowrate|  highrate|NewreviewTime|\n",
      "+--------------------+-------+----------+-------------+\n",
      "|So the screen its...|   null|1400457600|   05-19-2014|\n",
      "|So the screen its...|   null|1400457600|   05-19-2014|\n",
      "|So the screen its...|   null|1400457600|   05-19-2014|\n",
      "|So the screen its...|   null|1400457600|   05-19-2014|\n",
      "|So the screen its...|   null|1400457600|   05-19-2014|\n",
      "|So the screen its...|   null|1400457600|   05-19-2014|\n",
      "|I had a complicat...|   null|1400457600|   05-19-2014|\n",
      "|I had a complicat...|   null|1400457600|   05-19-2014|\n",
      "|I had a complicat...|   null|1400457600|   05-19-2014|\n",
      "|I had a complicat...|   null|1400457600|   05-19-2014|\n",
      "+--------------------+-------+----------+-------------+\n",
      "only showing top 10 rows\n",
      "\n"
     ]
    },
    {
     "name": "stderr",
     "output_type": "stream",
     "text": [
      "                                                                                \r"
     ]
    }
   ],
   "source": [
    "df = review_df.join(rating_df,review_df['reviewerID']==rating_df['reviewID'])\\\n",
    "    .select(review_df['reviewText'],rating_df['lowrate'],rating_df['highrate'],review_df['NewreviewTime'])\n",
    "df.show(10)"
   ]
  },
  {
   "cell_type": "code",
   "execution_count": 15,
   "metadata": {},
   "outputs": [
    {
     "name": "stderr",
     "output_type": "stream",
     "text": [
      "[Stage 22:===========================================>              (3 + 1) / 4]\r"
     ]
    },
    {
     "name": "stdout",
     "output_type": "stream",
     "text": [
      "+--------------------+----------+----------+-------------+\n",
      "|          reviewText|   lowrate|  highrate|NewreviewTime|\n",
      "+--------------------+----------+----------+-------------+\n",
      "|VERY HAPPY, it lo...| 972683275|1332028800|   03-18-2012|\n",
      "|Installed easy an...| 972683275|1395878400|   03-27-2014|\n",
      "|I consider myself...| 972683275|1360713600|   02-13-2013|\n",
      "|My nook tablet ha...|1400501776|1341187200|   07-02-2012|\n",
      "|I purchased a Kin...|1400599997|1265760000|   02-10-2010|\n",
      "|I purchased this ...|1400599997|1265760000|   10-21-2008|\n",
      "|This is exactly w...| 972683275|1363305600|   03-15-2013|\n",
      "|This is a pretty ...|1400532620|1306713600|   05-30-2011|\n",
      "|UPDATE 6/3/10:  B...|1400599997|1275177600|   05-30-2010|\n",
      "|All the haters do...|1400532620|1306713600|   03-02-2012|\n",
      "|The unit itself w...|1400532620|1306713600|   07-16-2011|\n",
      "|They claim this w...|1400532620|1306713600|   11-27-2010|\n",
      "|Unit works as exp...|1400532620|1306713600|   01-19-2011|\n",
      "|Recording on the ...|1400532620|1306713600|   12-08-2010|\n",
      "|This unit doesn't...|1400532620|1306713600|   09-04-2013|\n",
      "|I have this runni...| 972683275|1363305600|   03-15-2013|\n",
      "|Good headset for ...|1400532620|1306713600|   12-31-2009|\n",
      "|This camera cost ...|1400532620|1306713600|   03-24-2012|\n",
      "|I have 3 swivel m...| 972683275|1326412800|   01-13-2012|\n",
      "|I'm using this wi...| 972683275|1332979200|   03-29-2012|\n",
      "+--------------------+----------+----------+-------------+\n",
      "only showing top 20 rows\n",
      "\n"
     ]
    },
    {
     "name": "stderr",
     "output_type": "stream",
     "text": [
      "                                                                                \r"
     ]
    }
   ],
   "source": [
    "\n",
    "df.filter(col(\"lowrate\").isNotNull()).show()\n"
   ]
  },
  {
   "cell_type": "code",
   "execution_count": 16,
   "metadata": {},
   "outputs": [
    {
     "name": "stderr",
     "output_type": "stream",
     "text": [
      "                                                                                \r"
     ]
    }
   ],
   "source": [
    "df.write.parquet('Assignment1paraquetfile')"
   ]
  },
  {
   "cell_type": "code",
   "execution_count": null,
   "metadata": {},
   "outputs": [],
   "source": []
  }
 ],
 "metadata": {
  "interpreter": {
   "hash": "916dbcbb3f70747c44a77c7bcd40155683ae19c65e1c03b4aa3499c5328201f1"
  },
  "kernelspec": {
   "display_name": "Python 3.8.10 64-bit",
   "language": "python",
   "name": "python3"
  },
  "language_info": {
   "codemirror_mode": {
    "name": "ipython",
    "version": 3
   },
   "file_extension": ".py",
   "mimetype": "text/x-python",
   "name": "python",
   "nbconvert_exporter": "python",
   "pygments_lexer": "ipython3",
   "version": "3.8.10"
  },
  "orig_nbformat": 4
 },
 "nbformat": 4,
 "nbformat_minor": 2
}
